{
  "cells": [
    {
      "cell_type": "code",
      "execution_count": 1,
      "id": "f3bccf85",
      "metadata": {
        "id": "f3bccf85"
      },
      "outputs": [],
      "source": [
        "import numpy as np\n",
        "import tensorflow as tf\n",
        "from tensorflow import keras\n",
        "from tensorflow.keras import layers\n",
        "from tensorflow.keras.applications.mobilenet import preprocess_input\n",
        "from tensorflow.keras.preprocessing.image import ImageDataGenerator\n",
        "import cv2\n",
        "import matplotlib.pyplot as plt"
      ]
    },
    {
      "cell_type": "code",
      "source": [
        "# Model / data parameters\n",
        "num_classes = 10\n",
        "input_shape = (56, 56, 3)\n",
        "\n",
        "# Load the data and split it between train and test sets\n",
        "(x_train, y_train), (x_test, y_test) = keras.datasets.mnist.load_data()\n",
        "\n",
        "# Scale images to the [0, 1] range\n",
        "x_train = x_train.astype(\"float32\") / 255\n",
        "x_test = x_test.astype(\"float32\") / 255\n",
        "# reshape to write input shape\n",
        "x_train = np.array([cv2.cvtColor(cv2.resize(x, input_shape[:2], \n",
        "                                            interpolation = cv2.INTER_AREA),cv2.COLOR_GRAY2RGB) for x in x_train])\n",
        "x_test = np.array([cv2.cvtColor(cv2.resize(x, input_shape[:2], \n",
        "                                           interpolation = cv2.INTER_AREA),cv2.COLOR_GRAY2RGB) for x in x_test])\n",
        "# Make sure images have shape (28, 28, 1)\n",
        "# x_train = np.expand_dims(x_train, -1)\n",
        "# x_test = np.expand_dims(x_test, -1)\n",
        "print(\"x_train shape:\", x_train.shape)\n",
        "print(x_train.shape[0], \"train samples\")\n",
        "print(x_test.shape[0], \"test samples\")\n",
        "# preprocess input\n",
        "plt.imshow(x_train[0])\n",
        "\n",
        "\n",
        "\n",
        "# convert class vectors to binary class matrices\n",
        "y_train = keras.utils.to_categorical(y_train, num_classes)\n",
        "y_test = keras.utils.to_categorical(y_test, num_classes)"
      ],
      "metadata": {
        "id": "9mi4irSKQv-7",
        "outputId": "ce979b27-c50a-4caa-9ec5-3d27f0b0b4cc",
        "colab": {
          "base_uri": "https://localhost:8080/",
          "height": 354
        }
      },
      "id": "9mi4irSKQv-7",
      "execution_count": 2,
      "outputs": [
        {
          "output_type": "stream",
          "name": "stdout",
          "text": [
            "Downloading data from https://storage.googleapis.com/tensorflow/tf-keras-datasets/mnist.npz\n",
            "11490434/11490434 [==============================] - 0s 0us/step\n",
            "x_train shape: (60000, 56, 56, 3)\n",
            "60000 train samples\n",
            "10000 test samples\n"
          ]
        },
        {
          "output_type": "display_data",
          "data": {
            "text/plain": [
              "<Figure size 432x288 with 1 Axes>"
            ],
            "image/png": "[encoded data removed]"
          },
          "metadata": {
            "needs_background": "light"
          }
        }
      ]
    },
    {
      "cell_type": "code",
      "source": [
        "base_model = keras.applications.MobileNet(\n",
        "    input_shape=input_shape,\n",
        "    alpha=1.0,\n",
        "    depth_multiplier=1,\n",
        "    include_top=False,\n",
        "    weights=\"imagenet\",\n",
        "    input_tensor=None,\n",
        "    pooling=None,\n",
        "    classes=1000,\n",
        "    classifier_activation=\"softmax\"\n",
        ")\n",
        "base_model.trainable = False"
      ],
      "metadata": {
        "id": "1ekUgYO6XZv2",
        "outputId": "f8e731e0-2e3f-4e8e-f642-934217515a6b",
        "colab": {
          "base_uri": "https://localhost:8080/"
        }
      },
      "id": "1ekUgYO6XZv2",
      "execution_count": 3,
      "outputs": [
        {
          "output_type": "stream",
          "name": "stderr",
          "text": [
            "WARNING:tensorflow:`input_shape` is undefined or non-square, or `rows` is not in [128, 160, 192, 224]. Weights for input shape (224, 224) will be loaded as the default.\n"
          ]
        }
      ]
    },
    {
      "cell_type": "code",
      "source": [
        "def custom_augmentation(np_tensor):\n",
        " \n",
        "  def random_crop(np_tensor):\n",
        " \n",
        "    #cropped height between 70% to 130% of an original height\n",
        "    new_height = int(np.random.uniform(0.7, 1.30) * np_tensor.shape[0])\n",
        " \n",
        "    #cropped width between 70% to 130% of an original width\n",
        "    new_width = int(np.random.uniform(0.7, 1.30) * np_tensor.shape[1])\n",
        " \n",
        "    # resize to new height and width\n",
        "    cropped = tf.image.resize_with_crop_or_pad(np_tensor, new_height, new_width)\n",
        " \n",
        "    return tf.image.resize(cropped, np_tensor.shape[:2])\n",
        " \n",
        "  augmnted_tensor = random_crop(np_tensor)\n",
        "  return np.array(augmnted_tensor)"
      ],
      "metadata": {
        "id": "OXMw5VpqoE1b"
      },
      "id": "OXMw5VpqoE1b",
      "execution_count": 8,
      "outputs": []
    },
    {
      "cell_type": "code",
      "source": [
        "inputs = keras.Input(shape=input_shape)\n",
        "# preprocess for mobile net\n",
        "preprocessed_input = keras.applications.mobilenet_v2.preprocess_input(inputs)\n",
        "base_outputs = base_model(preprocessed_input, training=False)\n",
        "# Convert features of shape `base_model.output_shape[1:]` to vectors\n",
        "x = keras.layers.GlobalAveragePooling2D()(base_outputs)\n",
        "x = keras.layers.Dropout(0.2)(x)  # Regularize with dropout\n",
        "# A Dense classifier with a single unit (binary classification)\n",
        "outputs = keras.layers.Dense(num_classes,activation=\"softmax\")(x)\n",
        "model = keras.Model(inputs, outputs)\n",
        "model.summary()"
      ],
      "metadata": {
        "id": "J_yq-t27nFAa",
        "colab": {
          "base_uri": "https://localhost:8080/"
        },
        "outputId": "6f9c9f24-22c0-4a4d-f8a4-2f48363940c0"
      },
      "id": "J_yq-t27nFAa",
      "execution_count": 4,
      "outputs": [
        {
          "output_type": "stream",
          "name": "stdout",
          "text": [
            "Model: \"model\"\n",
            "_________________________________________________________________\n",
            " Layer (type)                Output Shape              Param #   \n",
            "=================================================================\n",
            " input_2 (InputLayer)        [(None, 56, 56, 3)]       0         \n",
            "                                                                 \n",
            " tf.math.truediv (TFOpLambda  (None, 56, 56, 3)        0         \n",
            " )                                                               \n",
            "                                                                 \n",
            " tf.math.subtract (TFOpLambd  (None, 56, 56, 3)        0         \n",
            " a)                                                              \n",
            "                                                                 \n",
            " mobilenet_1.00_224 (Functio  (None, 1, 1, 1024)       3228864   \n",
            " nal)                                                            \n",
            "                                                                 \n",
            " global_average_pooling2d (G  (None, 1024)             0         \n",
            " lobalAveragePooling2D)                                          \n",
            "                                                                 \n",
            " dropout (Dropout)           (None, 1024)              0         \n",
            "                                                                 \n",
            " dense (Dense)               (None, 10)                10250     \n",
            "                                                                 \n",
            "=================================================================\n",
            "Total params: 3,239,114\n",
            "Trainable params: 10,250\n",
            "Non-trainable params: 3,228,864\n",
            "_________________________________________________________________\n"
          ]
        }
      ]
    },
    {
      "cell_type": "code",
      "source": [
        "model.compile(loss=\"categorical_crossentropy\", optimizer=\"adam\", metrics=[\"accuracy\"])\n",
        "\n",
        "model.fit(x_train, y_train, batch_size=32, epochs=10, validation_split=0.1)"
      ],
      "metadata": {
        "colab": {
          "base_uri": "https://localhost:8080/"
        },
        "id": "HHDAHLh7rANl",
        "outputId": "0b78f5f7-7168-4ecb-bda6-233ced01d26b"
      },
      "id": "HHDAHLh7rANl",
      "execution_count": 5,
      "outputs": [
        {
          "output_type": "stream",
          "name": "stdout",
          "text": [
            "Epoch 1/10\n",
            "1688/1688 [==============================] - 19s 9ms/step - loss: 2.2789 - accuracy: 0.1591 - val_loss: 2.2567 - val_accuracy: 0.1970\n",
            "Epoch 2/10\n",
            "1688/1688 [==============================] - 17s 10ms/step - loss: 2.2561 - accuracy: 0.1851 - val_loss: 2.2370 - val_accuracy: 0.1887\n",
            "Epoch 3/10\n",
            "1688/1688 [==============================] - 15s 9ms/step - loss: 2.2463 - accuracy: 0.1861 - val_loss: 2.2228 - val_accuracy: 0.2140\n",
            "Epoch 4/10\n",
            "1688/1688 [==============================] - 14s 9ms/step - loss: 2.2375 - accuracy: 0.1906 - val_loss: 2.2128 - val_accuracy: 0.2263\n",
            "Epoch 5/10\n",
            "1688/1688 [==============================] - 15s 9ms/step - loss: 2.2331 - accuracy: 0.1907 - val_loss: 2.2055 - val_accuracy: 0.2208\n",
            "Epoch 6/10\n",
            "1688/1688 [==============================] - 19s 12ms/step - loss: 2.2259 - accuracy: 0.1911 - val_loss: 2.1984 - val_accuracy: 0.2333\n",
            "Epoch 7/10\n",
            "1688/1688 [==============================] - 16s 10ms/step - loss: 2.2256 - accuracy: 0.1917 - val_loss: 2.1948 - val_accuracy: 0.2310\n",
            "Epoch 8/10\n",
            "1688/1688 [==============================] - 15s 9ms/step - loss: 2.2220 - accuracy: 0.1920 - val_loss: 2.1901 - val_accuracy: 0.2310\n",
            "Epoch 9/10\n",
            "1688/1688 [==============================] - 15s 9ms/step - loss: 2.2222 - accuracy: 0.1921 - val_loss: 2.1871 - val_accuracy: 0.2178\n",
            "Epoch 10/10\n",
            "1688/1688 [==============================] - 15s 9ms/step - loss: 2.2189 - accuracy: 0.1909 - val_loss: 2.1848 - val_accuracy: 0.2020\n"
          ]
        },
        {
          "output_type": "execute_result",
          "data": {
            "text/plain": [
              "<keras.callbacks.History at 0x7fb6df8ab400>"
            ]
          },
          "metadata": {},
          "execution_count": 5
        }
      ]
    },
    {
      "cell_type": "code",
      "source": [
        "base_model.trainable = True\n",
        "model.summary()"
      ],
      "metadata": {
        "colab": {
          "base_uri": "https://localhost:8080/"
        },
        "id": "ciLz_77QaPSo",
        "outputId": "8b19e2b1-637c-4c2d-c0c8-9969b407f832"
      },
      "id": "ciLz_77QaPSo",
      "execution_count": 6,
      "outputs": [
        {
          "output_type": "stream",
          "name": "stdout",
          "text": [
            "Model: \"model\"\n",
            "_________________________________________________________________\n",
            " Layer (type)                Output Shape              Param #   \n",
            "=================================================================\n",
            " input_2 (InputLayer)        [(None, 56, 56, 3)]       0         \n",
            "                                                                 \n",
            " tf.math.truediv (TFOpLambda  (None, 56, 56, 3)        0         \n",
            " )                                                               \n",
            "                                                                 \n",
            " tf.math.subtract (TFOpLambd  (None, 56, 56, 3)        0         \n",
            " a)                                                              \n",
            "                                                                 \n",
            " mobilenet_1.00_224 (Functio  (None, 1, 1, 1024)       3228864   \n",
            " nal)                                                            \n",
            "                                                                 \n",
            " global_average_pooling2d (G  (None, 1024)             0         \n",
            " lobalAveragePooling2D)                                          \n",
            "                                                                 \n",
            " dropout (Dropout)           (None, 1024)              0         \n",
            "                                                                 \n",
            " dense (Dense)               (None, 10)                10250     \n",
            "                                                                 \n",
            "=================================================================\n",
            "Total params: 3,239,114\n",
            "Trainable params: 3,217,226\n",
            "Non-trainable params: 21,888\n",
            "_________________________________________________________________\n"
          ]
        }
      ]
    },
    {
      "cell_type": "code",
      "source": [
        "model.compile(\n",
        "    optimizer=keras.optimizers.Adam(1e-5),  # Low learning rate\n",
        "    loss=\"categorical_crossentropy\", metrics=[\"accuracy\"]\n",
        ")\n",
        "\n",
        "epochs = 10\n",
        "model.fit(x_train, y_train, batch_size=32, epochs=epochs, validation_split=0.1)"
      ],
      "metadata": {
        "colab": {
          "base_uri": "https://localhost:8080/"
        },
        "id": "QzbpgIu5Wkkf",
        "outputId": "7cfbc82b-a156-4d89-a898-11da96940000"
      },
      "id": "QzbpgIu5Wkkf",
      "execution_count": 7,
      "outputs": [
        {
          "output_type": "stream",
          "name": "stdout",
          "text": [
            "Epoch 1/10\n",
            "1688/1688 [==============================] - 35s 19ms/step - loss: 1.8992 - accuracy: 0.2821 - val_loss: 1.4431 - val_accuracy: 0.5318\n",
            "Epoch 2/10\n",
            "1688/1688 [==============================] - 30s 18ms/step - loss: 0.9985 - accuracy: 0.7216 - val_loss: 0.2560 - val_accuracy: 0.9548\n",
            "Epoch 3/10\n",
            "1688/1688 [==============================] - 31s 18ms/step - loss: 0.2490 - accuracy: 0.9387 - val_loss: 0.1165 - val_accuracy: 0.9673\n",
            "Epoch 4/10\n",
            "1688/1688 [==============================] - 29s 17ms/step - loss: 0.1561 - accuracy: 0.9570 - val_loss: 0.1158 - val_accuracy: 0.9658\n",
            "Epoch 5/10\n",
            "1688/1688 [==============================] - 32s 19ms/step - loss: 0.1281 - accuracy: 0.9637 - val_loss: 0.0956 - val_accuracy: 0.9720\n",
            "Epoch 6/10\n",
            "1688/1688 [==============================] - 30s 18ms/step - loss: 0.1129 - accuracy: 0.9672 - val_loss: 0.0609 - val_accuracy: 0.9817\n",
            "Epoch 7/10\n",
            "1688/1688 [==============================] - 30s 18ms/step - loss: 0.1051 - accuracy: 0.9694 - val_loss: 0.0475 - val_accuracy: 0.9853\n",
            "Epoch 8/10\n",
            "1688/1688 [==============================] - 30s 18ms/step - loss: 0.0913 - accuracy: 0.9722 - val_loss: 0.0418 - val_accuracy: 0.9870\n",
            "Epoch 9/10\n",
            "1688/1688 [==============================] - 30s 18ms/step - loss: 0.0842 - accuracy: 0.9743 - val_loss: 0.0491 - val_accuracy: 0.9838\n",
            "Epoch 10/10\n",
            "1688/1688 [==============================] - 31s 19ms/step - loss: 0.0806 - accuracy: 0.9759 - val_loss: 0.0465 - val_accuracy: 0.9852\n"
          ]
        },
        {
          "output_type": "execute_result",
          "data": {
            "text/plain": [
              "<keras.callbacks.History at 0x7fb67a182d60>"
            ]
          },
          "metadata": {},
          "execution_count": 7
        }
      ]
    },
    {
      "cell_type": "code",
      "source": [
        "score = model.evaluate(x_test, y_test, verbose=0)\n",
        "print(\"Test loss:\", score[0])\n",
        "print(\"Test accuracy:\", score[1])"
      ],
      "metadata": {
        "colab": {
          "base_uri": "https://localhost:8080/"
        },
        "id": "eiYG0xN3b8QQ",
        "outputId": "c0536b6e-c5ce-4185-d4ff-2a00346367e7"
      },
      "id": "eiYG0xN3b8QQ",
      "execution_count": 8,
      "outputs": [
        {
          "output_type": "stream",
          "name": "stdout",
          "text": [
            "Test loss: 0.05108360946178436\n",
            "Test accuracy: 0.9832000136375427\n"
          ]
        }
      ]
    },
    {
      "cell_type": "code",
      "source": [
        "plt.imshow(x_test[0])\n",
        "predictions = model.predict([x_test])\n"
      ],
      "metadata": {
        "colab": {
          "base_uri": "https://localhost:8080/",
          "height": 284
        },
        "id": "Nf2vY5fzcBuF",
        "outputId": "c3f1daaa-dee7-4c04-9e96-7d8e7d61426b"
      },
      "id": "Nf2vY5fzcBuF",
      "execution_count": 12,
      "outputs": [
        {
          "output_type": "stream",
          "name": "stdout",
          "text": [
            "313/313 [==============================] - 2s 5ms/step\n"
          ]
        },
        {
          "output_type": "display_data",
          "data": {
            "text/plain": [
              "<Figure size 432x288 with 1 Axes>"
            ],
            "image/png": "[encoded data removed]"
          },
          "metadata": {
            "needs_background": "light"
          }
        }
      ]
    },
    {
      "cell_type": "code",
      "source": [
        "print(predictions[0])\n",
        "print(y_test[0])"
      ],
      "metadata": {
        "colab": {
          "base_uri": "https://localhost:8080/"
        },
        "id": "7chkr2KGfem8",
        "outputId": "81b76e89-e831-4b02-e732-3eecc533d0b5"
      },
      "id": "7chkr2KGfem8",
      "execution_count": 15,
      "outputs": [
        {
          "output_type": "stream",
          "name": "stdout",
          "text": [
            "[1.2437278e-06 7.5630282e-06 7.9193969e-06 6.7010092e-06 7.1489285e-07\n",
            " 8.7174121e-06 1.5081440e-07 9.9996316e-01 5.2361520e-07 3.3015920e-06]\n",
            "[0. 0. 0. 0. 0. 0. 0. 1. 0. 0.]\n"
          ]
        }
      ]
    }
  ],
  "metadata": {
    "kernelspec": {
      "display_name": "Python 3 (ipykernel)",
      "language": "python",
      "name": "python3"
    },
    "language_info": {
      "codemirror_mode": {
        "name": "ipython",
        "version": 3
      },
      "file_extension": ".py",
      "mimetype": "text/x-python",
      "name": "python",
      "nbconvert_exporter": "python",
      "pygments_lexer": "ipython3",
      "version": "3.9.12"
    },
    "colab": {
      "provenance": []
    },
    "accelerator": "GPU",
    "gpuClass": "standard"
  },
  "nbformat": 4,
  "nbformat_minor": 5
}