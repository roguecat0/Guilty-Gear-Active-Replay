{
  "cells": [
    {
      "cell_type": "code",
      "execution_count": 2,
      "id": "f3bccf85",
      "metadata": {
        "id": "f3bccf85"
      },
      "outputs": [],
      "source": [
        "import numpy as np\n",
        "from tensorflow import keras\n",
        "from tensorflow.keras import layers\n",
        "import cv2\n",
        "import matplotlib.pyplot as plt"
      ]
    },
    {
      "cell_type": "code",
      "source": [],
      "metadata": {
        "id": "j_Sot7YIVOyg"
      },
      "id": "j_Sot7YIVOyg",
      "execution_count": null,
      "outputs": []
    },
    {
      "cell_type": "code",
      "source": [
        "# Model / data parameters\n",
        "num_classes = 10\n",
        "input_shape = (32, 32, 3)\n",
        "\n",
        "# Load the data and split it between train and test sets\n",
        "(x_train, y_train), (x_test, y_test) = keras.datasets.mnist.load_data()\n",
        "\n",
        "# Scale images to the [0, 1] range\n",
        "x_train = x_train.astype(\"float32\") / 255\n",
        "x_test = x_test.astype(\"float32\") / 255\n",
        "# reshape to write input shape\n",
        "x_train = np.array([cv2.cvtColor(cv2.resize(x, input_shape[:2], interpolation = cv2.INTER_AREA),cv2.COLOR_GRAY2RGB) for x in x_train])\n",
        "x_test = np.array([cv2.cvtColor(cv2.resize(x, input_shape[:2], interpolation = cv2.INTER_AREA),cv2.COLOR_GRAY2RGB) for x in x_test])\n",
        "# Make sure images have shape (28, 28, 1)\n",
        "# x_train = np.expand_dims(x_train, -1)\n",
        "# x_test = np.expand_dims(x_test, -1)\n",
        "print(\"x_train shape:\", x_train.shape)\n",
        "print(x_train.shape[0], \"train samples\")\n",
        "print(x_test.shape[0], \"test samples\")\n",
        "\n",
        "\n",
        "# convert class vectors to binary class matrices\n",
        "y_train = keras.utils.to_categorical(y_train, num_classes)\n",
        "y_test = keras.utils.to_categorical(y_test, num_classes)"
      ],
      "metadata": {
        "id": "9mi4irSKQv-7",
        "outputId": "27724ed1-c800-4369-b20c-6a8c85c3fe66",
        "colab": {
          "base_uri": "https://localhost:8080/"
        }
      },
      "id": "9mi4irSKQv-7",
      "execution_count": 3,
      "outputs": [
        {
          "output_type": "stream",
          "name": "stdout",
          "text": [
            "x_train shape: (60000, 32, 32, 3)\n",
            "60000 train samples\n",
            "10000 test samples\n"
          ]
        }
      ]
    },
    {
      "cell_type": "code",
      "source": [
        "base_model = keras.applications.MobileNet(\n",
        "    input_shape=input_shape,\n",
        "    alpha=1.0,\n",
        "    depth_multiplier=1,\n",
        "    dropout=0.001,\n",
        "    include_top=False,\n",
        "    weights=\"imagenet\",\n",
        "    input_tensor=None,\n",
        "    pooling=None,\n",
        "    classes=1000,\n",
        "    classifier_activation=\"softmax\"\n",
        ")\n",
        "base_model.trainable = False\n",
        "base_model.summary()"
      ],
      "metadata": {
        "id": "1ekUgYO6XZv2",
        "outputId": "cef8e1ce-3d67-4722-9d23-073a40867902",
        "colab": {
          "base_uri": "https://localhost:8080/"
        }
      },
      "id": "1ekUgYO6XZv2",
      "execution_count": 4,
      "outputs": [
        {
          "output_type": "stream",
          "name": "stderr",
          "text": [
            "WARNING:tensorflow:`input_shape` is undefined or non-square, or `rows` is not in [128, 160, 192, 224]. Weights for input shape (224, 224) will be loaded as the default.\n"
          ]
        },
        {
          "output_type": "stream",
          "name": "stdout",
          "text": [
            "Model: \"mobilenet_1.00_224\"\n",
            "_________________________________________________________________\n",
            " Layer (type)                Output Shape              Param #   \n",
            "=================================================================\n",
            " input_1 (InputLayer)        [(None, 32, 32, 3)]       0         \n",
            "                                                                 \n",
            " conv1 (Conv2D)              (None, 16, 16, 32)        864       \n",
            "                                                                 \n",
            " conv1_bn (BatchNormalizatio  (None, 16, 16, 32)       128       \n",
            " n)                                                              \n",
            "                                                                 \n",
            " conv1_relu (ReLU)           (None, 16, 16, 32)        0         \n",
            "                                                                 \n",
            " conv_dw_1 (DepthwiseConv2D)  (None, 16, 16, 32)       288       \n",
            "                                                                 \n",
            " conv_dw_1_bn (BatchNormaliz  (None, 16, 16, 32)       128       \n",
            " ation)                                                          \n",
            "                                                                 \n",
            " conv_dw_1_relu (ReLU)       (None, 16, 16, 32)        0         \n",
            "                                                                 \n",
            " conv_pw_1 (Conv2D)          (None, 16, 16, 64)        2048      \n",
            "                                                                 \n",
            " conv_pw_1_bn (BatchNormaliz  (None, 16, 16, 64)       256       \n",
            " ation)                                                          \n",
            "                                                                 \n",
            " conv_pw_1_relu (ReLU)       (None, 16, 16, 64)        0         \n",
            "                                                                 \n",
            " conv_pad_2 (ZeroPadding2D)  (None, 17, 17, 64)        0         \n",
            "                                                                 \n",
            " conv_dw_2 (DepthwiseConv2D)  (None, 8, 8, 64)         576       \n",
            "                                                                 \n",
            " conv_dw_2_bn (BatchNormaliz  (None, 8, 8, 64)         256       \n",
            " ation)                                                          \n",
            "                                                                 \n",
            " conv_dw_2_relu (ReLU)       (None, 8, 8, 64)          0         \n",
            "                                                                 \n",
            " conv_pw_2 (Conv2D)          (None, 8, 8, 128)         8192      \n",
            "                                                                 \n",
            " conv_pw_2_bn (BatchNormaliz  (None, 8, 8, 128)        512       \n",
            " ation)                                                          \n",
            "                                                                 \n",
            " conv_pw_2_relu (ReLU)       (None, 8, 8, 128)         0         \n",
            "                                                                 \n",
            " conv_dw_3 (DepthwiseConv2D)  (None, 8, 8, 128)        1152      \n",
            "                                                                 \n",
            " conv_dw_3_bn (BatchNormaliz  (None, 8, 8, 128)        512       \n",
            " ation)                                                          \n",
            "                                                                 \n",
            " conv_dw_3_relu (ReLU)       (None, 8, 8, 128)         0         \n",
            "                                                                 \n",
            " conv_pw_3 (Conv2D)          (None, 8, 8, 128)         16384     \n",
            "                                                                 \n",
            " conv_pw_3_bn (BatchNormaliz  (None, 8, 8, 128)        512       \n",
            " ation)                                                          \n",
            "                                                                 \n",
            " conv_pw_3_relu (ReLU)       (None, 8, 8, 128)         0         \n",
            "                                                                 \n",
            " conv_pad_4 (ZeroPadding2D)  (None, 9, 9, 128)         0         \n",
            "                                                                 \n",
            " conv_dw_4 (DepthwiseConv2D)  (None, 4, 4, 128)        1152      \n",
            "                                                                 \n",
            " conv_dw_4_bn (BatchNormaliz  (None, 4, 4, 128)        512       \n",
            " ation)                                                          \n",
            "                                                                 \n",
            " conv_dw_4_relu (ReLU)       (None, 4, 4, 128)         0         \n",
            "                                                                 \n",
            " conv_pw_4 (Conv2D)          (None, 4, 4, 256)         32768     \n",
            "                                                                 \n",
            " conv_pw_4_bn (BatchNormaliz  (None, 4, 4, 256)        1024      \n",
            " ation)                                                          \n",
            "                                                                 \n",
            " conv_pw_4_relu (ReLU)       (None, 4, 4, 256)         0         \n",
            "                                                                 \n",
            " conv_dw_5 (DepthwiseConv2D)  (None, 4, 4, 256)        2304      \n",
            "                                                                 \n",
            " conv_dw_5_bn (BatchNormaliz  (None, 4, 4, 256)        1024      \n",
            " ation)                                                          \n",
            "                                                                 \n",
            " conv_dw_5_relu (ReLU)       (None, 4, 4, 256)         0         \n",
            "                                                                 \n",
            " conv_pw_5 (Conv2D)          (None, 4, 4, 256)         65536     \n",
            "                                                                 \n",
            " conv_pw_5_bn (BatchNormaliz  (None, 4, 4, 256)        1024      \n",
            " ation)                                                          \n",
            "                                                                 \n",
            " conv_pw_5_relu (ReLU)       (None, 4, 4, 256)         0         \n",
            "                                                                 \n",
            " conv_pad_6 (ZeroPadding2D)  (None, 5, 5, 256)         0         \n",
            "                                                                 \n",
            " conv_dw_6 (DepthwiseConv2D)  (None, 2, 2, 256)        2304      \n",
            "                                                                 \n",
            " conv_dw_6_bn (BatchNormaliz  (None, 2, 2, 256)        1024      \n",
            " ation)                                                          \n",
            "                                                                 \n",
            " conv_dw_6_relu (ReLU)       (None, 2, 2, 256)         0         \n",
            "                                                                 \n",
            " conv_pw_6 (Conv2D)          (None, 2, 2, 512)         131072    \n",
            "                                                                 \n",
            " conv_pw_6_bn (BatchNormaliz  (None, 2, 2, 512)        2048      \n",
            " ation)                                                          \n",
            "                                                                 \n",
            " conv_pw_6_relu (ReLU)       (None, 2, 2, 512)         0         \n",
            "                                                                 \n",
            " conv_dw_7 (DepthwiseConv2D)  (None, 2, 2, 512)        4608      \n",
            "                                                                 \n",
            " conv_dw_7_bn (BatchNormaliz  (None, 2, 2, 512)        2048      \n",
            " ation)                                                          \n",
            "                                                                 \n",
            " conv_dw_7_relu (ReLU)       (None, 2, 2, 512)         0         \n",
            "                                                                 \n",
            " conv_pw_7 (Conv2D)          (None, 2, 2, 512)         262144    \n",
            "                                                                 \n",
            " conv_pw_7_bn (BatchNormaliz  (None, 2, 2, 512)        2048      \n",
            " ation)                                                          \n",
            "                                                                 \n",
            " conv_pw_7_relu (ReLU)       (None, 2, 2, 512)         0         \n",
            "                                                                 \n",
            " conv_dw_8 (DepthwiseConv2D)  (None, 2, 2, 512)        4608      \n",
            "                                                                 \n",
            " conv_dw_8_bn (BatchNormaliz  (None, 2, 2, 512)        2048      \n",
            " ation)                                                          \n",
            "                                                                 \n",
            " conv_dw_8_relu (ReLU)       (None, 2, 2, 512)         0         \n",
            "                                                                 \n",
            " conv_pw_8 (Conv2D)          (None, 2, 2, 512)         262144    \n",
            "                                                                 \n",
            " conv_pw_8_bn (BatchNormaliz  (None, 2, 2, 512)        2048      \n",
            " ation)                                                          \n",
            "                                                                 \n",
            " conv_pw_8_relu (ReLU)       (None, 2, 2, 512)         0         \n",
            "                                                                 \n",
            " conv_dw_9 (DepthwiseConv2D)  (None, 2, 2, 512)        4608      \n",
            "                                                                 \n",
            " conv_dw_9_bn (BatchNormaliz  (None, 2, 2, 512)        2048      \n",
            " ation)                                                          \n",
            "                                                                 \n",
            " conv_dw_9_relu (ReLU)       (None, 2, 2, 512)         0         \n",
            "                                                                 \n",
            " conv_pw_9 (Conv2D)          (None, 2, 2, 512)         262144    \n",
            "                                                                 \n",
            " conv_pw_9_bn (BatchNormaliz  (None, 2, 2, 512)        2048      \n",
            " ation)                                                          \n",
            "                                                                 \n",
            " conv_pw_9_relu (ReLU)       (None, 2, 2, 512)         0         \n",
            "                                                                 \n",
            " conv_dw_10 (DepthwiseConv2D  (None, 2, 2, 512)        4608      \n",
            " )                                                               \n",
            "                                                                 \n",
            " conv_dw_10_bn (BatchNormali  (None, 2, 2, 512)        2048      \n",
            " zation)                                                         \n",
            "                                                                 \n",
            " conv_dw_10_relu (ReLU)      (None, 2, 2, 512)         0         \n",
            "                                                                 \n",
            " conv_pw_10 (Conv2D)         (None, 2, 2, 512)         262144    \n",
            "                                                                 \n",
            " conv_pw_10_bn (BatchNormali  (None, 2, 2, 512)        2048      \n",
            " zation)                                                         \n",
            "                                                                 \n",
            " conv_pw_10_relu (ReLU)      (None, 2, 2, 512)         0         \n",
            "                                                                 \n",
            " conv_dw_11 (DepthwiseConv2D  (None, 2, 2, 512)        4608      \n",
            " )                                                               \n",
            "                                                                 \n",
            " conv_dw_11_bn (BatchNormali  (None, 2, 2, 512)        2048      \n",
            " zation)                                                         \n",
            "                                                                 \n",
            " conv_dw_11_relu (ReLU)      (None, 2, 2, 512)         0         \n",
            "                                                                 \n",
            " conv_pw_11 (Conv2D)         (None, 2, 2, 512)         262144    \n",
            "                                                                 \n",
            " conv_pw_11_bn (BatchNormali  (None, 2, 2, 512)        2048      \n",
            " zation)                                                         \n",
            "                                                                 \n",
            " conv_pw_11_relu (ReLU)      (None, 2, 2, 512)         0         \n",
            "                                                                 \n",
            " conv_pad_12 (ZeroPadding2D)  (None, 3, 3, 512)        0         \n",
            "                                                                 \n",
            " conv_dw_12 (DepthwiseConv2D  (None, 1, 1, 512)        4608      \n",
            " )                                                               \n",
            "                                                                 \n",
            " conv_dw_12_bn (BatchNormali  (None, 1, 1, 512)        2048      \n",
            " zation)                                                         \n",
            "                                                                 \n",
            " conv_dw_12_relu (ReLU)      (None, 1, 1, 512)         0         \n",
            "                                                                 \n",
            " conv_pw_12 (Conv2D)         (None, 1, 1, 1024)        524288    \n",
            "                                                                 \n",
            " conv_pw_12_bn (BatchNormali  (None, 1, 1, 1024)       4096      \n",
            " zation)                                                         \n",
            "                                                                 \n",
            " conv_pw_12_relu (ReLU)      (None, 1, 1, 1024)        0         \n",
            "                                                                 \n",
            " conv_dw_13 (DepthwiseConv2D  (None, 1, 1, 1024)       9216      \n",
            " )                                                               \n",
            "                                                                 \n",
            " conv_dw_13_bn (BatchNormali  (None, 1, 1, 1024)       4096      \n",
            " zation)                                                         \n",
            "                                                                 \n",
            " conv_dw_13_relu (ReLU)      (None, 1, 1, 1024)        0         \n",
            "                                                                 \n",
            " conv_pw_13 (Conv2D)         (None, 1, 1, 1024)        1048576   \n",
            "                                                                 \n",
            " conv_pw_13_bn (BatchNormali  (None, 1, 1, 1024)       4096      \n",
            " zation)                                                         \n",
            "                                                                 \n",
            " conv_pw_13_relu (ReLU)      (None, 1, 1, 1024)        0         \n",
            "                                                                 \n",
            "=================================================================\n",
            "Total params: 3,228,864\n",
            "Trainable params: 0\n",
            "Non-trainable params: 3,228,864\n",
            "_________________________________________________________________\n"
          ]
        }
      ]
    },
    {
      "cell_type": "code",
      "source": [],
      "metadata": {
        "id": "J_yq-t27nFAa"
      },
      "id": "J_yq-t27nFAa",
      "execution_count": null,
      "outputs": []
    },
    {
      "cell_type": "code",
      "source": [
        "model = keras.Sequential(\n",
        "    [\n",
        "        keras.Input(shape=input_shape),\n",
        "        layers.Conv2D(32, kernel_size=(3, 3), activation=\"relu\"),\n",
        "        layers.MaxPooling2D(pool_size=(2, 2)),\n",
        "        layers.Conv2D(64, kernel_size=(3, 3), activation=\"relu\"),\n",
        "        layers.MaxPooling2D(pool_size=(2, 2)),\n",
        "        layers.Flatten(),\n",
        "        layers.Dropout(0.5),\n",
        "        layers.Dense(num_classes, activation=\"softmax\"),\n",
        "    ]\n",
        ")\n",
        "\n",
        "model.summary()"
      ],
      "metadata": {
        "id": "5KkQcNYES4Uq",
        "outputId": "36cce63c-629e-45e0-b559-cd8933c458d5",
        "colab": {
          "base_uri": "https://localhost:8080/"
        }
      },
      "id": "5KkQcNYES4Uq",
      "execution_count": 5,
      "outputs": [
        {
          "output_type": "stream",
          "name": "stdout",
          "text": [
            "Model: \"sequential\"\n",
            "_________________________________________________________________\n",
            " Layer (type)                Output Shape              Param #   \n",
            "=================================================================\n",
            " conv2d (Conv2D)             (None, 26, 26, 32)        320       \n",
            "                                                                 \n",
            " max_pooling2d (MaxPooling2D  (None, 13, 13, 32)       0         \n",
            " )                                                               \n",
            "                                                                 \n",
            " conv2d_1 (Conv2D)           (None, 11, 11, 64)        18496     \n",
            "                                                                 \n",
            " max_pooling2d_1 (MaxPooling  (None, 5, 5, 64)         0         \n",
            " 2D)                                                             \n",
            "                                                                 \n",
            " flatten (Flatten)           (None, 1600)              0         \n",
            "                                                                 \n",
            " dropout (Dropout)           (None, 1600)              0         \n",
            "                                                                 \n",
            " dense (Dense)               (None, 10)                16010     \n",
            "                                                                 \n",
            "=================================================================\n",
            "Total params: 34,826\n",
            "Trainable params: 34,826\n",
            "Non-trainable params: 0\n",
            "_________________________________________________________________\n"
          ]
        }
      ]
    },
    {
      "cell_type": "code",
      "source": [
        "batch_size = 128\n",
        "epochs = 15\n",
        "\n",
        "model.compile(loss=\"categorical_crossentropy\", optimizer=\"adam\", metrics=[\"accuracy\"])\n",
        "\n",
        "model.fit(x_train, y_train, batch_size=batch_size, epochs=epochs, validation_split=0.1)"
      ],
      "metadata": {
        "id": "vkCGnjB2T4xQ",
        "outputId": "7dc1c0b0-52ab-4ea6-dd1a-f27563947e5d",
        "colab": {
          "base_uri": "https://localhost:8080/"
        }
      },
      "id": "vkCGnjB2T4xQ",
      "execution_count": 6,
      "outputs": [
        {
          "output_type": "stream",
          "name": "stdout",
          "text": [
            "Epoch 1/15\n",
            "422/422 [==============================] - 10s 6ms/step - loss: 0.3757 - accuracy: 0.8853 - val_loss: 0.0886 - val_accuracy: 0.9757\n",
            "Epoch 2/15\n",
            "422/422 [==============================] - 2s 5ms/step - loss: 0.1158 - accuracy: 0.9650 - val_loss: 0.0627 - val_accuracy: 0.9818\n",
            "Epoch 3/15\n",
            "422/422 [==============================] - 2s 5ms/step - loss: 0.0868 - accuracy: 0.9732 - val_loss: 0.0459 - val_accuracy: 0.9873\n",
            "Epoch 4/15\n",
            "422/422 [==============================] - 2s 5ms/step - loss: 0.0700 - accuracy: 0.9784 - val_loss: 0.0408 - val_accuracy: 0.9873\n",
            "Epoch 5/15\n",
            "422/422 [==============================] - 2s 5ms/step - loss: 0.0605 - accuracy: 0.9813 - val_loss: 0.0361 - val_accuracy: 0.9898\n",
            "Epoch 6/15\n",
            "422/422 [==============================] - 2s 5ms/step - loss: 0.0555 - accuracy: 0.9829 - val_loss: 0.0338 - val_accuracy: 0.9903\n",
            "Epoch 7/15\n",
            "422/422 [==============================] - 2s 5ms/step - loss: 0.0503 - accuracy: 0.9843 - val_loss: 0.0318 - val_accuracy: 0.9918\n",
            "Epoch 8/15\n",
            "422/422 [==============================] - 2s 5ms/step - loss: 0.0468 - accuracy: 0.9850 - val_loss: 0.0309 - val_accuracy: 0.9908\n",
            "Epoch 9/15\n",
            "422/422 [==============================] - 2s 5ms/step - loss: 0.0430 - accuracy: 0.9863 - val_loss: 0.0329 - val_accuracy: 0.9908\n",
            "Epoch 10/15\n",
            "422/422 [==============================] - 2s 5ms/step - loss: 0.0406 - accuracy: 0.9874 - val_loss: 0.0317 - val_accuracy: 0.9908\n",
            "Epoch 11/15\n",
            "422/422 [==============================] - 2s 5ms/step - loss: 0.0383 - accuracy: 0.9880 - val_loss: 0.0310 - val_accuracy: 0.9913\n",
            "Epoch 12/15\n",
            "422/422 [==============================] - 2s 5ms/step - loss: 0.0387 - accuracy: 0.9873 - val_loss: 0.0291 - val_accuracy: 0.9913\n",
            "Epoch 13/15\n",
            "422/422 [==============================] - 2s 5ms/step - loss: 0.0335 - accuracy: 0.9893 - val_loss: 0.0310 - val_accuracy: 0.9913\n",
            "Epoch 14/15\n",
            "422/422 [==============================] - 2s 5ms/step - loss: 0.0326 - accuracy: 0.9893 - val_loss: 0.0321 - val_accuracy: 0.9917\n",
            "Epoch 15/15\n",
            "422/422 [==============================] - 2s 5ms/step - loss: 0.0334 - accuracy: 0.9891 - val_loss: 0.0286 - val_accuracy: 0.9923\n"
          ]
        },
        {
          "output_type": "execute_result",
          "data": {
            "text/plain": [
              "<keras.callbacks.History at 0x7fd6102952e0>"
            ]
          },
          "metadata": {},
          "execution_count": 6
        }
      ]
    },
    {
      "cell_type": "code",
      "source": [
        "score = model.evaluate(x_test, y_test, verbose=0)\n",
        "print(\"Test loss:\", score[0])\n",
        "print(\"Test accuracy:\", score[1])"
      ],
      "metadata": {
        "id": "vTdPEC0AUR3Z",
        "outputId": "7b1c41ab-9546-47d6-9656-eb447e789efd",
        "colab": {
          "base_uri": "https://localhost:8080/"
        }
      },
      "id": "vTdPEC0AUR3Z",
      "execution_count": 7,
      "outputs": [
        {
          "output_type": "stream",
          "name": "stdout",
          "text": [
            "Test loss: 0.025982141494750977\n",
            "Test accuracy: 0.9907000064849854\n"
          ]
        }
      ]
    }
  ],
  "metadata": {
    "kernelspec": {
      "display_name": "Python 3 (ipykernel)",
      "language": "python",
      "name": "python3"
    },
    "language_info": {
      "codemirror_mode": {
        "name": "ipython",
        "version": 3
      },
      "file_extension": ".py",
      "mimetype": "text/x-python",
      "name": "python",
      "nbconvert_exporter": "python",
      "pygments_lexer": "ipython3",
      "version": "3.9.12"
    },
    "colab": {
      "provenance": []
    },
    "accelerator": "GPU",
    "gpuClass": "standard"
  },
  "nbformat": 4,
  "nbformat_minor": 5
}